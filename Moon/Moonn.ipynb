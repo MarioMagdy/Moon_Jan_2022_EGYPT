{
 "cells": [
  {
   "cell_type": "markdown",
   "id": "888fd6c8",
   "metadata": {},
   "source": [
    "# Drawing the moon movement in Egypt in Jan 2022 with coordnate system Altitude and Azimuth as a part of our project\n",
    "\n",
    "## We are using data from U.S. Naval Observatory\n",
    "### https://www.cnmoc.usff.navy.mil/usno/\n"
   ]
  },
  {
   "cell_type": "code",
   "execution_count": 2,
   "id": "aea183bb",
   "metadata": {},
   "outputs": [
    {
     "name": "stdout",
     "output_type": "stream",
     "text": [
      "Requirement already satisfied: Pillow==9.0.0 in g:\\new folder (4)\\anconda\\lib\\site-packages (9.0.0)\n",
      "Requirement already satisfied: pandas in g:\\new folder (4)\\anconda\\lib\\site-packages (1.3.4)\n",
      "Requirement already satisfied: pytz>=2017.3 in g:\\new folder (4)\\anconda\\lib\\site-packages (from pandas) (2021.3)\n",
      "Requirement already satisfied: python-dateutil>=2.7.3 in g:\\new folder (4)\\anconda\\lib\\site-packages (from pandas) (2.8.2)\n",
      "Requirement already satisfied: numpy>=1.17.3 in g:\\new folder (4)\\anconda\\lib\\site-packages (from pandas) (1.20.3)\n",
      "Requirement already satisfied: six>=1.5 in g:\\new folder (4)\\anconda\\lib\\site-packages (from python-dateutil>=2.7.3->pandas) (1.16.0)\n",
      "Requirement already satisfied: tk in g:\\new folder (4)\\anconda\\lib\\site-packages (0.1.0)\n"
     ]
    }
   ],
   "source": [
    "!pip install Pillow==9.0.0\n",
    "!pip install pandas\n",
    "!pip install tk"
   ]
  },
  {
   "cell_type": "code",
   "execution_count": 23,
   "id": "f36929e0",
   "metadata": {},
   "outputs": [],
   "source": [
    "from tkinter import *\n",
    "import time\n",
    "from PIL import ImageTk,Image, ImageEnhance,ImageGrab\n",
    "import pandas as pd\n",
    "import numpy as np\n"
   ]
  },
  {
   "cell_type": "markdown",
   "id": "d9383ea1",
   "metadata": {},
   "source": [
    "# Some important Constants"
   ]
  },
  {
   "cell_type": "code",
   "execution_count": 24,
   "id": "1f7318d1",
   "metadata": {},
   "outputs": [],
   "source": [
    "\n",
    "win_WIDTH = 1900\n",
    "win_HEIGHT = 500\n",
    "vision_range_alt = 90\n",
    "vision_range_az = 360\n",
    "\n",
    "preview_postion_x = 100\n",
    "preview_postion_y = 125\n",
    "\n",
    "\n",
    "bar_x_place = 1600\n",
    "bar_y_place = 220\n",
    "c_height = 100\n",
    "y_stretch = 2  # The highest y = max_data_value * y_stretch\n",
    "y_gap = 20  # The gap between lower canvas edge and x axis\n",
    "x_stretch = 20  # Stretch x wide enough to fit the variables\n",
    "x_width = 40  # The width of the x-axis\n",
    "x_gap =40  # The gap between left canvas edge and y axis"
   ]
  },
  {
   "cell_type": "markdown",
   "id": "21550c5d",
   "metadata": {},
   "source": [
    "# initiating the window, the background, grid, texts...\n"
   ]
  },
  {
   "cell_type": "code",
   "execution_count": 25,
   "id": "b5fe03fa",
   "metadata": {},
   "outputs": [],
   "source": [
    "try:\n",
    "    window = Tk()\n",
    "except:\n",
    "    window = Toplevel()\n",
    "\n",
    "window.resizable(False, False)\n",
    "window.geometry('%dx%d+%d+%d' % (win_WIDTH, win_HEIGHT, 0, 0))\n",
    "window.title('Moon movement Jan 2022')\n",
    "\n",
    "canvas = Canvas(window, width=win_WIDTH, height=win_HEIGHT)\n",
    "background_photo = PhotoImage(file='sky.png')\n",
    "background = canvas.create_image(0, 0, image=background_photo, anchor=NW)\n",
    "\n",
    "for i in range(5):\n",
    "    canvas.create_line(0, i * 100, win_WIDTH, i * 100, fill=\"grey\", width=1, dash=(2, 1))\n",
    "    canvas.create_text(35 , i *100-10 , fill=\"white\", font=('Helvetica', '9'),\n",
    "                       text=f\"Altitude: {(5-i)*20}\")\n",
    "\n",
    "for i in range(11):\n",
    "    canvas.create_line(i * 190, 0, i * 190, win_WIDTH, fill=\"grey\", width=1, dash=(2, 1))\n",
    "    canvas.create_text(i *190 ,10  , fill=\"white\", font=('Helvetica', '9'),\n",
    "                       text=f\"Azimuth: {(i)*36}\")\n",
    "    \n",
    "alt = canvas.create_text( bar_x_place+120,bar_y_place +90,fill=\"white\",font=('Helvetica','8','bold'),text=f\"Altitude\")\n",
    "az = canvas.create_text(bar_x_place+60,bar_y_place +90,fill=\"white\",font=('Helvetica','8','bold'),text=f\"Azimuth\")\n",
    "vel = canvas.create_text(bar_x_place+90,bar_y_place -130,fill=\"white\",font=('Helvetica','12','bold'),text=f\"Velocities\")\n",
    "\n",
    "\n",
    "date = canvas.create_text(70, win_HEIGHT - 50, fill=\"white\", font=('Helvetica', '18', 'bold'), text=f\"Day: 1\\nMonth: 1\\nYear: 2022\")\n",
    "cords = canvas.create_text(win_WIDTH - 50, win_HEIGHT - 25, fill=\"white\", font=('Helvetica', '12', 'bold'), text=f\"Altitude: 0\\nAzimuth: 0\")\n",
    "    \n",
    "speed_x= canvas.create_rectangle(1000, 200, 120, 220, fill=\"red\")\n",
    "speed_y= canvas.create_rectangle(1000, 100, 220, 120, fill=\"blue\")\n",
    "    \n",
    "\n",
    "canvas.pack()"
   ]
  },
  {
   "cell_type": "markdown",
   "id": "70185e6c",
   "metadata": {},
   "source": [
    "# Creating Moon image and phases preview image with suitable sizes \n"
   ]
  },
  {
   "cell_type": "code",
   "execution_count": 26,
   "id": "cdfcf762",
   "metadata": {},
   "outputs": [],
   "source": [
    "img = (Image.open(\"image_moon.png\"))\n",
    "moon_size_x = int(win_WIDTH / vision_range_az * 10)\n",
    "moon_size_y = int(win_WIDTH / vision_range_az * 10)\n",
    "\n",
    "moon_preview_size_x = 250\n",
    "moon_preview_size_y = 250\n",
    "\n",
    "resized_image = img.resize((moon_size_x,moon_size_y),resample=Image.BICUBIC)\n",
    "\n",
    "\n",
    "resized_moon_preview = img.resize((moon_preview_size_x,moon_preview_size_y),resample=Image.BICUBIC)\n",
    "\n",
    "\n",
    "\n"
   ]
  },
  {
   "cell_type": "markdown",
   "id": "65a9adc7",
   "metadata": {},
   "source": [
    "#              we create a dark version and light version to show the Moon phases "
   ]
  },
  {
   "cell_type": "code",
   "execution_count": 27,
   "id": "e3e0d715",
   "metadata": {},
   "outputs": [],
   "source": [
    "enhancer = ImageEnhance.Brightness(resized_image)\n",
    "Bright = enhancer.enhance(1.5)\n",
    "Dark = enhancer.enhance(0.4)\n",
    "\n",
    "Dark_p = ImageTk.PhotoImage(Dark)\n",
    "Bright_p = ImageTk.PhotoImage(Bright)\n",
    "\n",
    "my_image = canvas.create_image(0, 0, image=Dark_p, anchor=NW)\n",
    "my_image2 = canvas.create_image(0, 0, image=Bright_p, anchor=NW)\n",
    "\n",
    "\n",
    "enhancer2 = ImageEnhance.Brightness(resized_moon_preview)\n",
    "Bright_preview  = enhancer2.enhance(1)\n",
    "Dark_preview = enhancer2.enhance(0.2)\n",
    "\n",
    "Dark_p_preview = ImageTk.PhotoImage(Dark_preview)\n",
    "Bright_p_preview = ImageTk.PhotoImage(Bright_preview)\n",
    "\n",
    "moon_D = canvas.create_image(preview_postion_x, preview_postion_y, image=Dark_p_preview, anchor=NW)\n",
    "moon_B = canvas.create_image(20, 150, image=Bright_p_preview, anchor=NW)\n"
   ]
  },
  {
   "cell_type": "markdown",
   "id": "520e5b0d",
   "metadata": {},
   "source": [
    "\n",
    "# Getting the data ready\n"
   ]
  },
  {
   "cell_type": "code",
   "execution_count": 28,
   "id": "8940092e",
   "metadata": {},
   "outputs": [],
   "source": [
    "obs = pd.read_csv('observationsCopy.csv')\n",
    "obs_cor = obs[['Alt', 'Az']]\n",
    "\n",
    "\n",
    "#data mapping functions\n",
    "def mping_alt(n):\n",
    "    return win_HEIGHT - (n * win_HEIGHT / vision_range_alt)\n",
    "\n",
    "\n",
    "def mping_az(n):\n",
    "    return n * win_WIDTH / vision_range_az\n",
    "\n",
    "\n",
    "cor_alt = list(map(mping_alt, obs_cor['Alt']))\n",
    "cor_az = list(map(mping_az, obs_cor['Az']))\n",
    "\n"
   ]
  },
  {
   "cell_type": "markdown",
   "id": "c818773d",
   "metadata": {},
   "source": [
    "# Drawing velocity functions"
   ]
  },
  {
   "cell_type": "code",
   "execution_count": 29,
   "id": "b0641059",
   "metadata": {},
   "outputs": [],
   "source": [
    "def draw_vel(velocity):\n",
    "        for x, y in enumerate(velocity):\n",
    "\n",
    "            # Bottom left coordinate\n",
    "            y = abs(y)\n",
    "            x0 = x * x_stretch + x * x_width + x_gap + bar_x_place\n",
    "\n",
    "            # Top left coordinates\n",
    "            y0 = bar_y_place + c_height - (y * y_stretch + y_gap)\n",
    "\n",
    "            # Bottom right coordinates\n",
    "            x1 = x * x_stretch + x * x_width + x_width + x_gap + bar_x_place\n",
    "\n",
    "            # Top right coordinates\n",
    "            y1 = bar_y_place + c_height - y_gap\n",
    "\n",
    "            speed = y\n",
    "            if y == velocity[0]:\n",
    "                if y > 40:\n",
    "                    canvas.itemconfig(az, fill=\"red\", font=('Helvetica', '8', 'bold'), text=f\"Azimuth\")\n",
    "                    time.sleep(0.05)\n",
    "                    if y > 100:\n",
    "                        continue\n",
    "                else:\n",
    "                    canvas.itemconfig(az, fill=\"white\", font=('Helvetica', '8', 'bold'), text=f\"Azimuth\")\n",
    "                canvas.coords(speed_y, x0, y0, x1, y1)\n",
    "\n",
    "            else:\n",
    "                if y > 100:\n",
    "                    canvas.itemconfig(alt, fill=\"red\", font=('Helvetica', '8', 'bold'), text=f\"Altitude\")\n",
    "                    time.sleep(0.05)\n",
    "                    if y > 100:\n",
    "                        continue\n",
    "                else:\n",
    "                    canvas.itemconfig(alt, fill=\"white\", font=('Helvetica', '8', 'bold'), text=f\"Altitude\")\n",
    "\n",
    "                    canvas.coords(speed_x, x0, y0, x1, y1)"
   ]
  },
  {
   "cell_type": "markdown",
   "id": "40135f2e",
   "metadata": {},
   "source": [
    "# Main loop"
   ]
  },
  {
   "cell_type": "code",
   "execution_count": 30,
   "id": "b4580e5e",
   "metadata": {
    "scrolled": true
   },
   "outputs": [],
   "source": [
    "wait_time = 0.01\n",
    "graph = 1\n",
    "i = 0\n",
    "day = obs.loc[0,'day']\n",
    "day_aa = []\n",
    "while i < len(obs[obs['month'] == 1]):\n",
    "    velocity = []\n",
    "    croped_image_br = Bright.crop([0, 0, moon_size_x * (obs.loc[i, 'Visible']), moon_size_y])\n",
    "    croped_preview_image_br = Bright_preview.crop([0, 0, moon_preview_size_x * (obs.loc[i, 'Visible']), moon_preview_size_y])\n",
    "\n",
    "    Bright_p = ImageTk.PhotoImage(croped_image_br)\n",
    "    Bright_p_preview = ImageTk.PhotoImage(croped_preview_image_br)\n",
    "\n",
    "    my_image2 = canvas.create_image(0, 0, image=Bright_p, anchor=NW)\n",
    "    moon_B = canvas.create_image(preview_postion_x, preview_postion_y, image=Bright_p_preview, anchor=NW)\n",
    "    canvas.pack()\n",
    "    coordinates = canvas.coords(my_image)\n",
    "    coordinates2 = canvas.coords(my_image2)\n",
    "    # print(coordinates)\n",
    "    velocity.append(cor_az[i] - coordinates[0])\n",
    "    velocity.append(cor_alt[i] - coordinates[1])\n",
    "    canvas.move(my_image,velocity[0],velocity[1] )\n",
    "\n",
    "    canvas.move(my_image2, cor_az[i] - coordinates2[0], cor_alt[i] - coordinates2[1])\n",
    "    \n",
    "    draw_vel(velocity)\n",
    "\n",
    "    window.update()\n",
    "    time.sleep(wait_time)\n",
    "    canvas.itemconfig(date, text=f\"Day: {obs.loc[i,'day']}\\nMonth: {obs.loc[i,'month']}\\nYear: 2022\")\n",
    "    if day != obs.loc[i,'day']:\n",
    "        this_day = np.where(obs[\"day_counter\"] == graph)[-1]\n",
    "\n",
    "        for line in day_aa:\n",
    "            canvas.create_line(line, fill=\"green\", width=3)\n",
    "        graph+=1\n",
    "        day_aa =[]\n",
    "    canvas.itemconfig(cords, text=f\"Altitude: {obs.loc[i,'Alt']}\\nAzimuth: {obs.loc[i,'Az']}\")\n",
    "\n",
    "    if i % 2 == 0:\n",
    "        day_aa.append((cor_az[i]+ moon_size_x/2,cor_alt[i]+moon_size_y/2,cor_az[i+1]+moon_size_x/2,cor_alt[i+1]+\n",
    "                       moon_size_y/2))\n",
    "\n",
    "    # day = obs.loc[i,'day']\n",
    "    # ImageGrab.grab().crop((0, 0, 1910, 530)).save(f\"images3/img{str(i).zfill(10)}.png\")\n",
    "    i += 1\n",
    "\n",
    "\n",
    "window.mainloop()"
   ]
  }
 ],
 "metadata": {
  "kernelspec": {
   "display_name": "Python 3 (ipykernel)",
   "language": "python",
   "name": "python3"
  },
  "language_info": {
   "codemirror_mode": {
    "name": "ipython",
    "version": 3
   },
   "file_extension": ".py",
   "mimetype": "text/x-python",
   "name": "python",
   "nbconvert_exporter": "python",
   "pygments_lexer": "ipython3",
   "version": "3.9.7"
  }
 },
 "nbformat": 4,
 "nbformat_minor": 5
}
